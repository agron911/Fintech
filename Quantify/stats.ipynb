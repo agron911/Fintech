{
 "cells": [
  {
   "cell_type": "code",
   "execution_count": 1,
   "id": "f5966754",
   "metadata": {},
   "outputs": [],
   "source": [
    "import numpy as np\n",
    "import scipy.stats as stats\n",
    "import scipy.optimize as opt\n"
   ]
  },
  {
   "cell_type": "code",
   "execution_count": 2,
   "id": "d161fc86",
   "metadata": {},
   "outputs": [
    {
     "name": "stdout",
     "output_type": "stream",
     "text": [
      "[9.90325475e-01 1.71136190e-01 6.78423598e-04 3.03856640e-01\n",
      " 2.52632199e-01 4.74844163e-01 4.59211026e-02 1.60629333e-01\n",
      " 7.62835796e-01 8.61347197e-01]\n"
     ]
    }
   ],
   "source": [
    "rv_unif = stats.uniform.rvs(size=10)\n",
    "print(rv_unif)"
   ]
  },
  {
   "cell_type": "markdown",
   "id": "167a056e",
   "metadata": {},
   "source": [
    "## 隨機生成0到1之間的隨機數，服從a=4, b=2的beta分布隨機數"
   ]
  },
  {
   "cell_type": "code",
   "execution_count": 3,
   "id": "bf18bc9b",
   "metadata": {},
   "outputs": [
    {
     "name": "stdout",
     "output_type": "stream",
     "text": [
      "[0.90859326 0.80566094 0.89218901 0.28591745 0.60398206 0.97117853\n",
      " 0.42255849 0.76520599 0.68128053 0.84081762]\n"
     ]
    }
   ],
   "source": [
    "rv_beta = stats.beta.rvs(size=10, a=4, b=2)\n",
    "print(rv_beta)"
   ]
  },
  {
   "cell_type": "code",
   "execution_count": 11,
   "id": "4fd14f7e",
   "metadata": {},
   "outputs": [
    {
     "name": "stdout",
     "output_type": "stream",
     "text": [
      "method 1 : [0.55488495 0.60846131 0.52183214 0.39831365 0.58077415 0.47049954\n",
      " 0.5193773  0.65653338 0.28654141 0.62234027] \n",
      "\n",
      "method 2 :  [0.43857338 0.9411551  0.75116671 0.92002864 0.62030521 0.56585548\n",
      " 0.41843548 0.5953096  0.88983036 0.94675351]\n"
     ]
    }
   ],
   "source": [
    "np.random.seed(seed=2018)\n",
    "rv_beta = stats.beta.rvs(size=10, a=4, b=2)\n",
    "print(\"method 1 :\", rv_beta,'\\n')\n",
    "\n",
    "np.random.seed(seed=2015)\n",
    "beta = stats.beta(a=4, b=2)\n",
    "print(\"method 2 : \", beta.rvs(size=10))"
   ]
  },
  {
   "cell_type": "code",
   "execution_count": 15,
   "id": "048484fb",
   "metadata": {
    "scrolled": true
   },
   "outputs": [
    {
     "data": {
      "text/plain": [
       "array([ 1.46286337e-01,  1.09115457e+00,  5.63606501e-01,  2.64846806e+00,\n",
       "       -9.59110264e-03, -2.93881866e+00,  1.48320550e+00, -6.97341844e-01,\n",
       "       -3.35467564e+00,  7.71719797e-01, -2.21995876e+00, -8.91088530e-01,\n",
       "       -1.66635657e+00,  8.32499353e-02,  4.16521517e+00,  5.61821086e-01,\n",
       "       -2.66336829e+00, -3.96127065e+00,  3.32462871e+00,  1.98146146e+00,\n",
       "        1.96997300e+00,  1.06766884e+00, -1.11882459e+00,  9.18709414e-01,\n",
       "        3.08545037e+00, -1.95029454e+00,  1.20023605e+00,  1.53853404e+00,\n",
       "        9.90850410e-01, -3.77660543e+00, -2.80269085e-01, -1.46751502e+00,\n",
       "       -8.25377620e-01,  1.49781972e+00,  1.97097915e+00,  4.15305073e+00,\n",
       "       -1.53975887e+00,  2.00343006e-03, -2.51371366e-01,  6.10749650e-01,\n",
       "       -3.81538081e-01,  7.77895817e-01, -1.62426503e+00, -1.31703796e+00,\n",
       "       -3.53903093e-02, -1.31146482e+00,  1.27943609e+00,  4.13834942e+00,\n",
       "       -2.63908148e+00,  1.20797615e+00,  6.24036892e+00, -8.63192158e-01,\n",
       "        5.06359205e-01,  1.76713791e+00,  1.89514842e+00,  4.03887514e+00,\n",
       "        1.07698290e+00,  2.98350382e+00,  2.07094174e+00, -2.09428549e+00,\n",
       "       -4.94851950e-01, -1.68119108e+00,  1.71927294e+00, -3.93755782e-01,\n",
       "       -5.81527679e-01,  1.95207807e+00, -1.72134109e+00,  8.25340057e-01,\n",
       "        1.79242173e+00,  1.12238572e+00, -1.85254382e+00, -1.18440920e+00,\n",
       "        1.41198739e+00,  1.20116009e-01,  3.17722632e+00, -8.86560623e-01,\n",
       "       -7.32780004e-01,  1.62925798e+00, -3.05795855e+00, -7.37236685e-01,\n",
       "       -2.31357998e+00,  1.23428809e+00, -2.92607366e-01,  3.74887864e-01,\n",
       "        2.75182320e+00, -9.17761313e-03, -2.39238482e+00,  3.15797663e+00,\n",
       "        6.76629908e-01,  1.18924832e+00,  7.97724438e-01,  5.39066786e-01,\n",
       "        3.08825978e+00,  3.48639653e-01, -3.59719871e-01,  8.11555318e-01,\n",
       "        3.80225932e+00, -4.82134868e-01, -9.56640102e-01, -3.88953564e-01,\n",
       "       -8.08595715e-01, -1.29418139e+00,  3.94840556e+00, -3.68564673e-01,\n",
       "       -5.11895041e-01,  2.76728181e+00, -1.26125368e+00, -2.20516156e+00,\n",
       "       -1.77021162e+00,  2.10811813e+00, -4.75832141e-01,  6.95312898e-01,\n",
       "        1.78776119e+00, -3.36286102e+00,  2.71845068e+00,  2.97516682e+00,\n",
       "        7.29931788e-01, -3.41000648e+00,  1.15249988e+00, -3.08886277e+00,\n",
       "        3.09358986e-01, -3.02066914e+00,  1.25053273e+00,  1.03003782e+00,\n",
       "        4.84939494e-01,  4.07306471e+00,  2.24806791e+00,  7.01751983e-01,\n",
       "       -2.62566774e+00,  1.98006475e+00, -6.42095456e+00,  6.62980814e-03,\n",
       "        2.65491522e+00,  4.13172214e+00,  9.96827319e-01,  1.28964696e+00,\n",
       "       -2.61237956e+00,  1.32359440e+00,  2.84095681e+00,  2.92046345e+00,\n",
       "        1.49850188e+00,  3.25650202e+00, -7.51208255e-01, -8.12681513e-01,\n",
       "       -4.51371334e-01, -4.21375828e+00, -2.88024224e+00,  2.21694269e+00,\n",
       "        1.09301843e+00,  1.71917362e+00,  4.70473300e-01, -1.15083406e+00,\n",
       "        1.68205931e+00,  7.37412206e-01,  1.54181024e+00, -1.03267849e+00,\n",
       "        4.82030611e-01, -1.45474715e+00,  5.36867207e-02,  9.66111292e-02,\n",
       "        1.81296129e+00, -7.94879260e-01, -7.31154814e-01,  2.79582445e-02,\n",
       "        6.66034455e-01, -1.43685532e-01,  2.03563148e+00,  1.98270519e+00,\n",
       "        1.07589210e+00,  1.63693726e+00, -2.75437137e+00,  4.65113233e+00,\n",
       "       -2.04177664e-02,  1.57848939e+00,  1.43349477e+00,  1.55351004e+00,\n",
       "        1.02420187e+00,  4.29741909e-01,  3.60039315e-01, -9.48580096e-01,\n",
       "        2.76008552e+00, -1.26546713e+00,  1.34954656e+00,  1.27442230e-01,\n",
       "       -2.09655712e+00, -1.86683304e+00,  5.32139006e-01,  3.38367164e+00,\n",
       "        5.10665610e-01, -1.38668597e+00,  6.39770720e-01,  4.47298557e+00,\n",
       "        5.25797154e-01,  1.11549383e+00, -2.53429936e-01, -1.32253838e+00,\n",
       "        1.01565167e+00,  1.29715930e+00,  4.72069641e+00,  1.35345748e+00])"
      ]
     },
     "execution_count": 15,
     "metadata": {},
     "output_type": "execute_result"
    }
   ],
   "source": [
    "norm_dist = stats.norm(loc = 0.5, scale=2)\n",
    "n=200\n",
    "dat = norm_dist.rvs(size=n)\n",
    "dat"
   ]
  },
  {
   "cell_type": "code",
   "execution_count": null,
   "id": "178da544",
   "metadata": {},
   "outputs": [],
   "source": []
  },
  {
   "cell_type": "markdown",
   "id": "fd97fe43",
   "metadata": {},
   "source": [
    "### 單樣本KS-TEST\n",
    "原假設是給定數據來自和原假設分布相同的分布"
   ]
  },
  {
   "cell_type": "code",
   "execution_count": 20,
   "id": "936c50a9",
   "metadata": {},
   "outputs": [
    {
     "name": "stdout",
     "output_type": "stream",
     "text": [
      "ks-test D = 0.046752039827395786\n",
      "p-value =  0.756363210573321\n"
     ]
    },
    {
     "data": {
      "text/plain": [
       "0.4120598269223851"
      ]
     },
     "execution_count": 20,
     "metadata": {},
     "output_type": "execute_result"
    }
   ],
   "source": [
    "mu = np.mean(dat)\n",
    "sigma = np.std(dat)\n",
    "stat_val, p_val = stats.kstest(dat, 'norm', (mu,sigma))\n",
    "print('ks-test D =',stat_val)\n",
    "print('p-value = ', p_val)\n",
    "mu"
   ]
  },
  {
   "cell_type": "markdown",
   "id": "8eacb14a",
   "metadata": {},
   "source": [
    "#### 檢驗這組數據的均值是否為0"
   ]
  },
  {
   "cell_type": "code",
   "execution_count": 19,
   "id": "20abeb7d",
   "metadata": {},
   "outputs": [
    {
     "name": "stdout",
     "output_type": "stream",
     "text": [
      "2.931836868501404\n",
      "0.0037642816420533957\n"
     ]
    }
   ],
   "source": [
    "stat_val, p_val = stats.ttest_1samp(dat, 0 )\n",
    "print(stat_val)\n",
    "print(p_val)"
   ]
  },
  {
   "cell_type": "code",
   "execution_count": 21,
   "id": "730fefd5",
   "metadata": {},
   "outputs": [
    {
     "data": {
      "text/plain": [
       "15.000000000000004"
      ]
     },
     "execution_count": 21,
     "metadata": {},
     "output_type": "execute_result"
    }
   ],
   "source": [
    "stats.norm.moment(6, loc=0,scale=1)"
   ]
  },
  {
   "cell_type": "code",
   "execution_count": 25,
   "id": "f64d2f30",
   "metadata": {},
   "outputs": [
    {
     "data": {
      "text/plain": [
       "DescribeResult(nobs=200, minmax=(-6.420954562819789, 6.240368923713443), mean=0.4120598269223851, variance=3.9506717186153724, skewness=-0.11835096775135849, kurtosis=0.26844500785561465)"
      ]
     },
     "execution_count": 25,
     "metadata": {},
     "output_type": "execute_result"
    }
   ],
   "source": [
    "stats.describe(dat)"
   ]
  },
  {
   "cell_type": "code",
   "execution_count": 43,
   "id": "31a84eea",
   "metadata": {},
   "outputs": [],
   "source": []
  },
  {
   "cell_type": "code",
   "execution_count": 48,
   "id": "338b0a92",
   "metadata": {},
   "outputs": [
    {
     "name": "stdout",
     "output_type": "stream",
     "text": [
      "2.392416842433142 0.01791379638236557\n"
     ]
    }
   ],
   "source": [
    "norm_dist2 = stats.norm(loc=-0.2,scale=1.0)\n",
    "dat2 = norm_dist2.rvs(100)\n",
    "stat_val, p_value = stats.ttest_ind(dat, dat2,equal_var = False)\n",
    "print(stat_val,p_value)"
   ]
  },
  {
   "cell_type": "code",
   "execution_count": 39,
   "id": "4571cec8",
   "metadata": {},
   "outputs": [
    {
     "name": "stdout",
     "output_type": "stream",
     "text": [
      "Data size is: 100\n",
      "Minimum value is: -4.81922348877011\n",
      "Maximum value is: 3.6837336449631444\n",
      "Arithmetic mean is: 0.24394041414465903\n",
      "Unbiased variance is: 3.213290849949181\n",
      "Biased skewness is: -0.06307057173392892\n",
      "Biased kurtosis is: -0.4836999827883841\n"
     ]
    }
   ],
   "source": [
    "norm_dist = stats.norm(loc=0, scale=1.8)\n",
    "dat = norm_dist.rvs(size=100)\n",
    "info = stats.describe(dat)\n",
    "print(\"Data size is: \" + str(info[0]))\n",
    "print(\"Minimum value is: \" + str(info[1][0]))\n",
    "print(\"Maximum value is: \" + str(info[1][1]))\n",
    "print(\"Arithmetic mean is: \" + str(info[2]))\n",
    "print(\"Unbiased variance is: \" + str(info[3]))\n",
    "print(\"Biased skewness is: \" + str(info[4]))\n",
    "print(\"Biased kurtosis is: \" + str(info[5]))"
   ]
  },
  {
   "cell_type": "code",
   "execution_count": 56,
   "id": "8f5c9526",
   "metadata": {},
   "outputs": [
    {
     "name": "stdout",
     "output_type": "stream",
     "text": [
      "Data size is: 100\n",
      "Minimum value is: -0.5632326074768084\n",
      "Maximum value is: 0.5933575776253174\n",
      "Arithmetic mean is: 0.021245265786336325\n",
      "Unbiased variance is: 0.05618632273455082\n",
      "Biased skewness is: 0.13348097312173884\n",
      "Biased kurtosis is: -0.3728084532614502\n"
     ]
    }
   ],
   "source": [
    "norm_dist = stats.norm(loc=0, scale=0.2)\n",
    "dat2 = norm_dist.rvs(size=100)\n",
    "info = stats.describe(dat2)\n",
    "print(\"Data size is: \" + str(info[0]))\n",
    "print(\"Minimum value is: \" + str(info[1][0]))\n",
    "print(\"Maximum value is: \" + str(info[1][1]))\n",
    "print(\"Arithmetic mean is: \" + str(info[2]))\n",
    "print(\"Unbiased variance is: \" + str(info[3]))\n",
    "print(\"Biased skewness is: \" + str(info[4]))\n",
    "print(\"Biased kurtosis is: \" + str(info[5]))"
   ]
  },
  {
   "cell_type": "code",
   "execution_count": 57,
   "id": "65dc8ba4",
   "metadata": {},
   "outputs": [
    {
     "name": "stdout",
     "output_type": "stream",
     "text": [
      "0.021245265786336325 0.23584838245619857\n"
     ]
    }
   ],
   "source": [
    "mu , sigma = stats.norm.fit(dat2)\n",
    "print(mu, sigma)"
   ]
  },
  {
   "cell_type": "code",
   "execution_count": 60,
   "id": "eff638fa",
   "metadata": {},
   "outputs": [
    {
     "name": "stdout",
     "output_type": "stream",
     "text": [
      "0.24394041414465903 1.7835800911228206\n"
     ]
    }
   ],
   "source": [
    "mu , sigma = stats.norm.fit(dat)\n",
    "print(mu, sigma)"
   ]
  },
  {
   "cell_type": "code",
   "execution_count": 73,
   "id": "46552411",
   "metadata": {
    "scrolled": true
   },
   "outputs": [
    {
     "name": "stdout",
     "output_type": "stream",
     "text": [
      "pearsonr: cor = 0.183360166326, pval = 0.0678406997788034\n",
      "pearsonr: cor = 0.20083, pval = 0.0451244\n"
     ]
    }
   ],
   "source": [
    "cor , pval = stats.pearsonr(dat, dat2)\n",
    "print('pearsonr: cor = {}, pval = {}'.format(cor,pval))\n",
    "cor , pval = stats.spearmanr(dat, dat2)\n",
    "print('pearsonr: cor = %6.5f, pval = %.7f ' % (cor,pval))"
   ]
  },
  {
   "cell_type": "code",
   "execution_count": 76,
   "id": "ca0a505a",
   "metadata": {},
   "outputs": [
    {
     "name": "stdout",
     "output_type": "stream",
     "text": [
      "Optimization terminated successfully.\n",
      "         Current function value: 0.000000\n",
      "         Iterations: 24\n",
      "         Function evaluations: 1924\n",
      "result of minimizing rosenbrock function via nelder mead simpolex algorithm\n",
      "   direc: array([[ 4.55396239e-04,  1.36370090e-03,  2.24582768e-03,\n",
      "         4.12213272e-03,  7.99477493e-03],\n",
      "       [-1.91529419e-03, -3.00633609e-03, -6.77652553e-03,\n",
      "        -1.34919171e-02, -2.67196797e-02],\n",
      "       [-3.76393598e-02, -2.30587398e-02,  1.05038412e-02,\n",
      "         3.43628871e-05,  7.36675942e-05],\n",
      "       [ 0.00000000e+00,  0.00000000e+00,  0.00000000e+00,\n",
      "         1.00000000e+00,  0.00000000e+00],\n",
      "       [ 4.00791294e-06,  1.15417958e-05,  2.01270425e-05,\n",
      "         5.08729704e-05,  1.09096801e-04]])\n",
      "     fun: 2.041828615178145e-21\n",
      " message: 'Optimization terminated successfully.'\n",
      "    nfev: 1924\n",
      "     nit: 24\n",
      "  status: 0\n",
      " success: True\n",
      "       x: array([1., 1., 1., 1., 1.])\n"
     ]
    }
   ],
   "source": [
    "def rosen(x):\n",
    "    return sum(100.0*(x[1:]-x[:-1]**2)**2 + (1-x[:-1])**2)\n",
    "\n",
    "x_0 = np.array([0.5, 1.6, 1.1, 0.8, 1.2])\n",
    "res = opt.minimize(rosen, x_0, method = 'powell', options={'xtol':1e-8, 'disp':True})\n",
    "# res = opt.minimize(rosen, x_0, method = 'nelder-mead', options={'xtol':1e-8, 'disp':True})\n",
    "print('result of minimizing rosenbrock function via nelder mead simpolex algorithm')\n",
    "print(res)"
   ]
  },
  {
   "cell_type": "code",
   "execution_count": 79,
   "id": "e13aaaac",
   "metadata": {},
   "outputs": [
    {
     "data": {
      "text/plain": [
       "array([0.5, 1.6])"
      ]
     },
     "execution_count": 79,
     "metadata": {},
     "output_type": "execute_result"
    }
   ],
   "source": [
    "def rosen_der(x):\n",
    "    xm = x[1:-1]\n",
    "    xm_m1 = x[:2]\n",
    "    xm_p1 = x[2:]\n",
    "    der = np.zeros_like(x)\n",
    "    der[1:-1] = 200*(xm-xm_m1**2)- 400*(xm_p1 - xm**2)*xm -2*(1-xm)\n",
    "    der[0] = -400*x[0]*(x[1] -x[0]**2) - 2*(1-x[0])\n",
    "    der[-1] = 200*(x[-1]-x[-2]**2)\n",
    "    return der\n",
    "\n",
    "x_0[:2]"
   ]
  },
  {
   "cell_type": "code",
   "execution_count": null,
   "id": "3a5d3bc1",
   "metadata": {},
   "outputs": [],
   "source": []
  }
 ],
 "metadata": {
  "kernelspec": {
   "display_name": "Python 3",
   "language": "python",
   "name": "python3"
  },
  "language_info": {
   "codemirror_mode": {
    "name": "ipython",
    "version": 3
   },
   "file_extension": ".py",
   "mimetype": "text/x-python",
   "name": "python",
   "nbconvert_exporter": "python",
   "pygments_lexer": "ipython3",
   "version": "3.8.8"
  }
 },
 "nbformat": 4,
 "nbformat_minor": 5
}

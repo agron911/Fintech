{
 "cells": [
  {
   "cell_type": "code",
   "execution_count": 1,
   "metadata": {},
   "outputs": [
    {
     "ename": "ModuleNotFoundError",
     "evalue": "No module named 'selenium'",
     "output_type": "error",
     "traceback": [
      "\u001b[1;31m---------------------------------------------------------------------------\u001b[0m",
      "\u001b[1;31mModuleNotFoundError\u001b[0m                       Traceback (most recent call last)",
      "\u001b[1;32m<ipython-input-1-ae5632bc796c>\u001b[0m in \u001b[0;36m<module>\u001b[1;34m\u001b[0m\n\u001b[1;32m----> 1\u001b[1;33m \u001b[1;32mfrom\u001b[0m \u001b[0mselenium\u001b[0m \u001b[1;32mimport\u001b[0m \u001b[0mwebdriver\u001b[0m\u001b[1;33m\u001b[0m\u001b[1;33m\u001b[0m\u001b[0m\n\u001b[0m\u001b[0;32m      2\u001b[0m \u001b[1;32mfrom\u001b[0m \u001b[0mselenium\u001b[0m\u001b[1;33m.\u001b[0m\u001b[0mwebdriver\u001b[0m\u001b[1;33m.\u001b[0m\u001b[0mchrome\u001b[0m\u001b[1;33m.\u001b[0m\u001b[0moptions\u001b[0m \u001b[1;32mimport\u001b[0m \u001b[0mOptions\u001b[0m\u001b[1;33m\u001b[0m\u001b[1;33m\u001b[0m\u001b[0m\n\u001b[0;32m      3\u001b[0m \u001b[1;32mfrom\u001b[0m \u001b[0mbs4\u001b[0m \u001b[1;32mimport\u001b[0m \u001b[0mBeautifulSoup\u001b[0m\u001b[1;33m\u001b[0m\u001b[1;33m\u001b[0m\u001b[0m\n",
      "\u001b[1;31mModuleNotFoundError\u001b[0m: No module named 'selenium'"
     ]
    }
   ],
   "source": [
    "from selenium import webdriver\n",
    "from selenium.webdriver.chrome.options import Options\n",
    "from bs4 import BeautifulSoup"
   ]
  },
  {
   "cell_type": "code",
   "execution_count": 2,
   "metadata": {},
   "outputs": [],
   "source": [
    "chrome_options = Options()"
   ]
  },
  {
   "cell_type": "code",
   "execution_count": 4,
   "metadata": {},
   "outputs": [
    {
     "name": "stderr",
     "output_type": "stream",
     "text": [
      "<ipython-input-4-1ff49423c34f>:1: DeprecationWarning: use options instead of chrome_options\n",
      "  driver = webdriver.Chrome(chrome_options=chrome_options)\n"
     ]
    }
   ],
   "source": [
    "driver = webdriver.Chrome(chrome_options=chrome_options)"
   ]
  },
  {
   "cell_type": "code",
   "execution_count": 5,
   "metadata": {},
   "outputs": [],
   "source": [
    "driver.get('https://www.reddit.com/r/worldnews/')"
   ]
  },
  {
   "cell_type": "code",
   "execution_count": 15,
   "metadata": {},
   "outputs": [],
   "source": [
    "driver.find_element_by_xpath('//*[@id=\"SHORTCUT_FOCUSABLE_DIV\"]/div[2]/div/div/div/div[2]/div[3]/div[1]/div[1]/div[2]/a[3]').click()"
   ]
  },
  {
   "cell_type": "code",
   "execution_count": 9,
   "metadata": {
    "collapsed": true,
    "jupyter": {
     "outputs_hidden": true,
     "source_hidden": true
    }
   },
   "outputs": [
    {
     "name": "stdout",
     "output_type": "stream",
     "text": [
      "Pfizer is testing a pill that, if successful, could become first-ever home cure for COVID-19 \n",
      "\n",
      "Dominate the game. Destroy their Nexus. Experience Wild Rift on the big screen with BlueStacks. Download Now! \n",
      "\n",
      "Sales of milk and cream to EU plunge 96% because of Brexit \n",
      "\n",
      "Russia's 'extermination' of Alexei Navalny's opposition group - 13,000 arrests and a terrorist designation \n",
      "\n",
      "Boris Johnson said he'd rather 'let the bodies pile high in their thousands' than allow a second lockdown, report says \n",
      "\n",
      "US will share AstraZeneca vaccines with world \n",
      "\n",
      "Switzerland's small farmers support vote for a nationwide ban on synthetic pesticides \n",
      "\n",
      "Illegal Rare Earth Mines on China Border Multiply Since Myanmar’s Coup \n",
      "\n",
      "Boris Johnson 'risking national security and own safety' with private phone \n",
      "\n",
      "Russia suspends activities of Kremlin critic Navalny's regional groups \n",
      "\n",
      "Supercharge Your Study With the Phlinx Browser Extension - Quickly look up any word, person, place or entity mentioned on any page. Whatever you long click you’ll get a sidebar full of useful information! \n",
      "\n",
      "‘They Chained Me to a Radiator and Beat Me’: Armenian POWs Speak Out \n",
      "\n",
      "Oldest evidence of human activity unearthed in African cave \n",
      "\n",
      "Police In Italy Arrest Dozens Of Members Of Nigerian Secret Society Charged With Human Trafficking \n",
      "\n",
      "Afghans Detail Alleged Civilian Killings By Australian Military In Afghanistan \n",
      "\n",
      "Brazil crime: One of world's biggest arms traffickers recaptured \n",
      "\n",
      "EU begins legal action against Aztrazeneca over 'breach of contract' \n",
      "\n",
      "Turkey announces full lockdown in bid to halt COVID surge \n",
      "\n",
      "‘Grave abuses’: Human Rights Watch accuses Israel of apartheid \n",
      "\n",
      "Track your investment portfolio online automatically with Sharesight. Don't waste time manually adding your holdings, trades & dividends into a spreadsheet - sign up FREE and use the award-winning portfolio tracker today. \n",
      "\n",
      "SpiceXpress airlifts 800 oxygen concentrators from Hong Kong to Delhi \n",
      "\n",
      "Taiwan Security Officials Propose Ban on Chinese Flag \n",
      "\n",
      "Global reorganization of ocean currents could have 'devastating effects' on climate, experts say \n",
      "\n",
      "Two arrested in Argentina for plotting to attack Jewish community on Shabbat \n",
      "\n",
      "Taliban tribunal gives woman 40 lashes for talking to a man on the phone \n",
      "\n"
     ]
    }
   ],
   "source": [
    "soup = BeautifulSoup(driver.page_source, 'html.parser')\n",
    "all_soups = soup.find_all('h3')\n",
    "\n",
    "running = 0 \n",
    "threshold = 25\n",
    "open_print = False\n",
    "\n",
    "for each_soup in all_soups:\n",
    "    if running == threshold:\n",
    "        break\n",
    "    if each_soup.text == 'Pfizer is testing a pill that, if successful, could become first-ever home cure for COVID-19':\n",
    "        open_print = True\n",
    "    if open_print == True:\n",
    "        print(each_soup.text, '\\n')\n",
    "        running += 1"
   ]
  },
  {
   "cell_type": "code",
   "execution_count": 13,
   "metadata": {
    "collapsed": true,
    "jupyter": {
     "outputs_hidden": true,
     "source_hidden": true
    }
   },
   "outputs": [
    {
     "ename": "SyntaxError",
     "evalue": "invalid syntax (<ipython-input-13-a263dfbabbef>, line 10)",
     "output_type": "error",
     "traceback": [
      "\u001b[1;36m  File \u001b[1;32m\"<ipython-input-13-a263dfbabbef>\"\u001b[1;36m, line \u001b[1;32m10\u001b[0m\n\u001b[1;33m    if open_print = True:\u001b[0m\n\u001b[1;37m                  ^\u001b[0m\n\u001b[1;31mSyntaxError\u001b[0m\u001b[1;31m:\u001b[0m invalid syntax\n"
     ]
    }
   ],
   "source": [
    "soup = BeautifulSoup(driver.page_source, 'html.parser')\n",
    "all_soups = soup.find_all('h3')\n",
    "\n",
    "running = 0 \n",
    "threshold = 25\n",
    "\n",
    "for each_soup in all_soups:\n",
    "    if running == threshold:\n",
    "        break\n",
    "    if open_print == True:\n",
    "        print(each_soup.text, '\\n')\n",
    "        running += 1"
   ]
  },
  {
   "cell_type": "code",
   "execution_count": 14,
   "metadata": {},
   "outputs": [
    {
     "name": "stdout",
     "output_type": "stream",
     "text": [
      "Pfizer is testing a pill that, if successful, could become first-ever home cure for COVID-19 \n",
      "\n",
      "Dominate the game. Destroy their Nexus. Experience Wild Rift on the big screen with BlueStacks. Download Now! \n",
      "\n",
      "Sales of milk and cream to EU plunge 96% because of Brexit \n",
      "\n",
      "Russia's 'extermination' of Alexei Navalny's opposition group - 13,000 arrests and a terrorist designation \n",
      "\n",
      "Boris Johnson said he'd rather 'let the bodies pile high in their thousands' than allow a second lockdown, report says \n",
      "\n",
      "US will share AstraZeneca vaccines with world \n",
      "\n",
      "Switzerland's small farmers support vote for a nationwide ban on synthetic pesticides \n",
      "\n",
      "Illegal Rare Earth Mines on China Border Multiply Since Myanmar’s Coup \n",
      "\n",
      "Boris Johnson 'risking national security and own safety' with private phone \n",
      "\n",
      "Russia suspends activities of Kremlin critic Navalny's regional groups \n",
      "\n",
      "Supercharge Your Study With the Phlinx Browser Extension - Quickly look up any word, person, place or entity mentioned on any page. Whatever you long click you’ll get a sidebar full of useful information! \n",
      "\n",
      "‘They Chained Me to a Radiator and Beat Me’: Armenian POWs Speak Out \n",
      "\n",
      "Oldest evidence of human activity unearthed in African cave \n",
      "\n",
      "Police In Italy Arrest Dozens Of Members Of Nigerian Secret Society Charged With Human Trafficking \n",
      "\n",
      "Afghans Detail Alleged Civilian Killings By Australian Military In Afghanistan \n",
      "\n",
      "Brazil crime: One of world's biggest arms traffickers recaptured \n",
      "\n",
      "EU begins legal action against Aztrazeneca over 'breach of contract' \n",
      "\n",
      "Turkey announces full lockdown in bid to halt COVID surge \n",
      "\n",
      "‘Grave abuses’: Human Rights Watch accuses Israel of apartheid \n",
      "\n",
      "Track your investment portfolio online automatically with Sharesight. Don't waste time manually adding your holdings, trades & dividends into a spreadsheet - sign up FREE and use the award-winning portfolio tracker today. \n",
      "\n",
      "SpiceXpress airlifts 800 oxygen concentrators from Hong Kong to Delhi \n",
      "\n",
      "Taiwan Security Officials Propose Ban on Chinese Flag \n",
      "\n",
      "Global reorganization of ocean currents could have 'devastating effects' on climate, experts say \n",
      "\n",
      "Two arrested in Argentina for plotting to attack Jewish community on Shabbat \n",
      "\n",
      "Taliban tribunal gives woman 40 lashes for talking to a man on the phone \n",
      "\n"
     ]
    }
   ],
   "source": [
    "soup = BeautifulSoup(driver.page_source, 'html.parser')\n",
    "all_soups = soup.find_all('h3')\n",
    "\n",
    "running = 0 \n",
    "threshold = 25\n",
    "open_print = False\n",
    "\n",
    "for each_soup in all_soups:\n",
    "    if running == threshold:\n",
    "        break\n",
    "    if each_soup == all_soups[0]:\n",
    "        open_print = True\n",
    "    if open_print == True:\n",
    "        print(each_soup.text, '\\n')\n",
    "        running += 1"
   ]
  },
  {
   "cell_type": "code",
   "execution_count": 20,
   "metadata": {},
   "outputs": [
    {
     "name": "stdout",
     "output_type": "stream",
     "text": [
      "Pfizer is testing a pill that, if successful, could become first-ever home cure for COVID-19 \n",
      "\n",
      "Dominate the game. Destroy their Nexus. Experience Wild Rift on the big screen with BlueStacks. Download Now! \n",
      "\n",
      "Sales of milk and cream to EU plunge 96% because of Brexit \n",
      "\n",
      "Russia's 'extermination' of Alexei Navalny's opposition group - 13,000 arrests and a terrorist designation \n",
      "\n",
      "Boris Johnson said he'd rather 'let the bodies pile high in their thousands' than allow a second lockdown, report says \n",
      "\n",
      "US will share AstraZeneca vaccines with world \n",
      "\n",
      "Switzerland's small farmers support vote for a nationwide ban on synthetic pesticides \n",
      "\n",
      "Illegal Rare Earth Mines on China Border Multiply Since Myanmar’s Coup \n",
      "\n",
      "Boris Johnson 'risking national security and own safety' with private phone \n",
      "\n",
      "Russia suspends activities of Kremlin critic Navalny's regional groups \n",
      "\n",
      "Supercharge Your Study With the Phlinx Browser Extension - Quickly look up any word, person, place or entity mentioned on any page. Whatever you long click you’ll get a sidebar full of useful information! \n",
      "\n",
      "‘They Chained Me to a Radiator and Beat Me’: Armenian POWs Speak Out \n",
      "\n",
      "Oldest evidence of human activity unearthed in African cave \n",
      "\n",
      "Police In Italy Arrest Dozens Of Members Of Nigerian Secret Society Charged With Human Trafficking \n",
      "\n",
      "Afghans Detail Alleged Civilian Killings By Australian Military In Afghanistan \n",
      "\n",
      "Brazil crime: One of world's biggest arms traffickers recaptured \n",
      "\n",
      "EU begins legal action against Aztrazeneca over 'breach of contract' \n",
      "\n",
      "Turkey announces full lockdown in bid to halt COVID surge \n",
      "\n",
      "‘Grave abuses’: Human Rights Watch accuses Israel of apartheid \n",
      "\n",
      "Track your investment portfolio online automatically with Sharesight. Don't waste time manually adding your holdings, trades & dividends into a spreadsheet - sign up FREE and use the award-winning portfolio tracker today. \n",
      "\n",
      "SpiceXpress airlifts 800 oxygen concentrators from Hong Kong to Delhi \n",
      "\n",
      "Taiwan Security Officials Propose Ban on Chinese Flag \n",
      "\n",
      "Global reorganization of ocean currents could have 'devastating effects' on climate, experts say \n",
      "\n",
      "Two arrested in Argentina for plotting to attack Jewish community on Shabbat \n",
      "\n",
      "Taliban tribunal gives woman 40 lashes for talking to a man on the phone \n",
      "\n"
     ]
    }
   ],
   "source": [
    "soup = BeautifulSoup(driver.page_source, 'html.parser')\n",
    "all_soups = soup.find_all('h3')\n",
    "\n",
    "running = 0 \n",
    "threshold = 25\n",
    "\n",
    "for each_soup in all_soups:\n",
    "    if running == threshold:\n",
    "        break\n",
    "    print(each_soup.text, '\\n')\n",
    "    running += 1"
   ]
  },
  {
   "cell_type": "code",
   "execution_count": 2,
   "metadata": {},
   "outputs": [
    {
     "ename": "NameError",
     "evalue": "name 'BeautifulSoup' is not defined",
     "output_type": "error",
     "traceback": [
      "\u001b[1;31m---------------------------------------------------------------------------\u001b[0m",
      "\u001b[1;31mNameError\u001b[0m                                 Traceback (most recent call last)",
      "\u001b[1;32m<ipython-input-2-5eb5fd163b3b>\u001b[0m in \u001b[0;36m<module>\u001b[1;34m\u001b[0m\n\u001b[1;32m----> 1\u001b[1;33m \u001b[0msoup\u001b[0m \u001b[1;33m=\u001b[0m \u001b[0mBeautifulSoup\u001b[0m\u001b[1;33m(\u001b[0m\u001b[0mdriver\u001b[0m\u001b[1;33m.\u001b[0m\u001b[0mpage_source\u001b[0m\u001b[1;33m,\u001b[0m \u001b[1;34m'html.parser'\u001b[0m\u001b[1;33m)\u001b[0m\u001b[1;33m\u001b[0m\u001b[1;33m\u001b[0m\u001b[0m\n\u001b[0m\u001b[0;32m      2\u001b[0m \u001b[0mall_soups\u001b[0m \u001b[1;33m=\u001b[0m \u001b[0msoup\u001b[0m\u001b[1;33m.\u001b[0m\u001b[0mfind_all\u001b[0m\u001b[1;33m(\u001b[0m\u001b[1;34m'h3'\u001b[0m\u001b[1;33m)\u001b[0m\u001b[1;33m\u001b[0m\u001b[1;33m\u001b[0m\u001b[0m\n\u001b[0;32m      3\u001b[0m \u001b[1;33m\u001b[0m\u001b[0m\n\u001b[0;32m      4\u001b[0m \u001b[0mrunning\u001b[0m \u001b[1;33m=\u001b[0m \u001b[1;36m0\u001b[0m\u001b[1;33m\u001b[0m\u001b[1;33m\u001b[0m\u001b[0m\n\u001b[0;32m      5\u001b[0m \u001b[0mthreshold\u001b[0m \u001b[1;33m=\u001b[0m \u001b[1;36m25\u001b[0m\u001b[1;33m\u001b[0m\u001b[1;33m\u001b[0m\u001b[0m\n",
      "\u001b[1;31mNameError\u001b[0m: name 'BeautifulSoup' is not defined"
     ]
    }
   ],
   "source": [
    "soup = BeautifulSoup(driver.page_source, 'html.parser')\n",
    "all_soups = soup.find_all('h3')\n",
    "\n",
    "running = 0 \n",
    "threshold = 25\n",
    "\n",
    "for each_soup in all_soups:\n",
    "    if running == threshold:\n",
    "        break\n",
    "        print(each_soup, '\\n')\n",
    "        running += 1"
   ]
  },
  {
   "cell_type": "code",
   "execution_count": null,
   "metadata": {},
   "outputs": [],
   "source": []
  },
  {
   "cell_type": "code",
   "execution_count": null,
   "metadata": {},
   "outputs": [],
   "source": []
  },
  {
   "cell_type": "code",
   "execution_count": null,
   "metadata": {},
   "outputs": [],
   "source": []
  },
  {
   "cell_type": "code",
   "execution_count": null,
   "metadata": {},
   "outputs": [],
   "source": []
  },
  {
   "cell_type": "code",
   "execution_count": null,
   "metadata": {},
   "outputs": [],
   "source": []
  }
 ],
 "metadata": {
  "kernelspec": {
   "display_name": "Python 3",
   "language": "python",
   "name": "python3"
  },
  "language_info": {
   "codemirror_mode": {
    "name": "ipython",
    "version": 3
   },
   "file_extension": ".py",
   "mimetype": "text/x-python",
   "name": "python",
   "nbconvert_exporter": "python",
   "pygments_lexer": "ipython3",
   "version": "3.7.3"
  }
 },
 "nbformat": 4,
 "nbformat_minor": 4
}

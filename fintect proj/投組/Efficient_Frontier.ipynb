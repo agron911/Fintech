{
 "cells": [
  {
   "cell_type": "code",
   "execution_count": 1,
   "metadata": {},
   "outputs": [],
   "source": [
    "import pandas_datareader as pdr\n",
    "import datetime\n",
    "import numpy as np\n",
    "import pandas as pd\n",
    "import scipy.stats as stats\n",
    "import scipy.optimize as opt\n",
    "import matplotlib.pyplot as plt"
   ]
  },
  {
   "cell_type": "code",
   "execution_count": 2,
   "metadata": {},
   "outputs": [],
   "source": [
    "stock_name = ['AAPL','CSCO','IBM','AMZN']\n",
    "port = ['AAPL','CSCO','IBM','AMZN']"
   ]
  },
  {
   "cell_type": "code",
   "execution_count": 3,
   "metadata": {},
   "outputs": [
    {
     "name": "stdout",
     "output_type": "stream",
     "text": [
      "                 AAPL       CSCO         IBM         AMZN\n",
      "Date                                                     \n",
      "2018-12-31  38.461140  40.411636  101.703552  1501.969971\n",
      "2019-01-02  38.505024  40.057236  103.081429  1539.130005\n",
      "2019-01-03  34.669640  38.600437  101.023560  1500.280029\n",
      "2019-01-04  36.149662  40.339195  104.969307  1575.390015\n",
      "2019-01-07  36.069202  40.611755  105.711922  1629.510010\n",
      "2019-01-08  36.756794  40.940712  107.215065  1656.579956\n",
      "2019-01-09  37.380985  40.715141  107.984528  1659.420044\n",
      "2019-01-10  37.500465  40.639957  108.968719  1656.219971\n",
      "                AAPL      CSCO       IBM      AMZN\n",
      "Date                                              \n",
      "2019-01-02  0.001140 -0.008808  0.013457  0.024440\n",
      "2019-01-03 -0.104924 -0.037046 -0.020165 -0.025566\n",
      "2019-01-04  0.041803  0.044060  0.038314  0.048851\n",
      "2019-01-07 -0.002228  0.006734  0.007050  0.033776\n",
      "2019-01-08  0.018884  0.008067  0.014119  0.016476\n",
      "2019-01-09  0.016839 -0.005525  0.007151  0.001713\n",
      "2019-01-10  0.003191 -0.001848  0.009073 -0.001930\n",
      "2019-01-11 -0.009866  0.005765 -0.002713 -0.009500\n"
     ]
    }
   ],
   "source": [
    "start = datetime.datetime(2019,1,1)\n",
    "end = datetime.datetime(2020,1,1)\n",
    "\n",
    "def sto_pri(x):\n",
    "    data = pdr.get_data_yahoo(x,start,end)\n",
    "    data = data['Adj Close']\n",
    "    return data\n",
    "\n",
    "data = pd.DataFrame({stock_name[0]:sto_pri(port[0]),\n",
    " stock_name[1]:sto_pri(port[1]),\n",
    " stock_name[2]:sto_pri(port[2]),\n",
    " stock_name[3]:sto_pri(port[3])\n",
    "})\n",
    "\n",
    "# data = pd.DataFrame({stock_name[0]:sto_pri(port[0]),\n",
    "#  stock_name[1]:sto_pri(port[1]),\n",
    "#  stock_name[2]:sto_pri(port[2]),\n",
    "#  stock_name[3]:sto_pri(port[3]),\n",
    "#  stock_name[4]:sto_pri(port[4]),\n",
    "#  stock_name[5]:sto_pri(port[5]),\n",
    "#  stock_name[6]:sto_pri(port[6])\n",
    "# })\n",
    "\n",
    "data = data.dropna()\n",
    "print(data.head(8))\n",
    "#returns = data.pct_change(-1).dropna()\n",
    "log_returns = np.log(data/data.shift(1)).dropna()\n",
    "print(log_returns.head(8))\n",
    "# print(returns.cov())"
   ]
  },
  {
   "cell_type": "code",
   "execution_count": 4,
   "metadata": {},
   "outputs": [],
   "source": [
    "np.random.seed(123)\n",
    "num_ports = 10\n",
    "all_weights = np.zeros((num_ports, len(stock_name)))\n",
    "ret_arr = np.zeros(num_ports)\n",
    "vol_arr = np.zeros(num_ports)\n",
    "sharpe_arr = np.zeros(num_ports)\n",
    "\n",
    "for x in range(num_ports):\n",
    "    # Weights\n",
    "    weights = np.array(np.random.random(len(stock_name)))\n",
    "    weights = weights/np.sum(weights)\n",
    "    \n",
    "    # Save weights\n",
    "    all_weights[x,:] = weights\n",
    "    \n",
    "    # Expected return\n",
    "    ret_arr[x] = np.sum( (log_returns.mean() * weights * 252))\n",
    "    \n",
    "    # Expected volatility\n",
    "    vol_arr[x] = np.sqrt(np.dot(weights.T, np.dot(log_returns.cov()*252, weights)))\n",
    "    \n",
    "    # Sharpe Ratio\n",
    "    sharpe_arr[x] = ret_arr[x]/vol_arr[x]"
   ]
  },
  {
   "cell_type": "code",
   "execution_count": 5,
   "metadata": {},
   "outputs": [
    {
     "name": "stdout",
     "output_type": "stream",
     "text": [
      "sharpe ratio max: 1.9347200364463293\n",
      "sharpe ratio argmax: 6\n",
      "sample weights: [0.44173869 0.19747353 0.22121601 0.13957177]\n"
     ]
    }
   ],
   "source": [
    "print('sharpe ratio max: {}'.format(sharpe_arr.max()))\n",
    "print('sharpe ratio argmax: {}'.format(sharpe_arr.argmax()))\n",
    "print('sample weights: {}'.format(all_weights[sharpe_arr.argmax(),:]))"
   ]
  },
  {
   "cell_type": "code",
   "execution_count": 6,
   "metadata": {},
   "outputs": [],
   "source": [
    "max_sr_ret = ret_arr[sharpe_arr.argmax()]\n",
    "max_sr_vol = vol_arr[sharpe_arr.argmax()]"
   ]
  },
  {
   "cell_type": "code",
   "execution_count": 7,
   "metadata": {},
   "outputs": [
    {
     "data": {
      "image/png": "[encoded data removed]",
      "text/plain": [
       "<Figure size 864x576 with 2 Axes>"
      ]
     },
     "metadata": {
      "needs_background": "light"
     },
     "output_type": "display_data"
    }
   ],
   "source": [
    "plt.figure(figsize=(12,8))\n",
    "plt.scatter(vol_arr, ret_arr, c=sharpe_arr, cmap='viridis')\n",
    "plt.colorbar(label='Sharpe Ratio')\n",
    "plt.xlabel('Volatility')\n",
    "plt.ylabel('Return')\n",
    "# plt.xlim(0.15,0.25)\n",
    "# plt.ylim(-0.5,1.)\n",
    "plt.savefig('best_sr.png')\n",
    "plt.scatter(max_sr_vol, max_sr_ret,c='red', s=50) # red dot\n",
    "plt.show()"
   ]
  },
  {
   "cell_type": "code",
   "execution_count": 8,
   "metadata": {},
   "outputs": [],
   "source": [
    "def get_ret_vol_sr(weights):\n",
    "    weights = np.array(weights)\n",
    "    ret = np.sum(log_returns.mean() * weights) * 252\n",
    "    vol = np.sqrt(np.dot(weights.T, np.dot(log_returns.cov()*252, weights)))\n",
    "    sr = ret/vol\n",
    "    return np.array([ret, vol, sr])\n",
    "\n",
    "def neg_sharpe(weights):\n",
    "# the number 2 is the sharpe ratio index from the get_ret_vol_sr\n",
    "    return get_ret_vol_sr(weights)[2] * -1\n",
    "\n",
    "def check_sum(weights):\n",
    "    #return 0 if sum of the weights is 1\n",
    "    return np.sum(weights)-1"
   ]
  },
  {
   "cell_type": "code",
   "execution_count": 9,
   "metadata": {},
   "outputs": [],
   "source": [
    "cons = ({'type':'eq','fun':check_sum})\n",
    "bounds = tuple((0,1) for i in range(len(stock_name)))\n",
    "ini_guess = list(np.ones(len(stock_name))*(1/len(stock_name)))"
   ]
  },
  {
   "cell_type": "code",
   "execution_count": 10,
   "metadata": {},
   "outputs": [],
   "source": [
    "optimal_results = opt.minimize(neg_sharpe, ini_guess, method = 'SLSQP', bounds = bounds, constraints = cons)"
   ]
  },
  {
   "cell_type": "code",
   "execution_count": 11,
   "metadata": {},
   "outputs": [
    {
     "name": "stdout",
     "output_type": "stream",
     "text": [
      "     fun: -2.4198724493339547\n",
      "     jac: array([2.98023224e-08, 7.04439253e-01, 5.80507517e-02, 4.49213415e-01])\n",
      " message: 'Optimization terminated successfully.'\n",
      "    nfev: 12\n",
      "     nit: 2\n",
      "    njev: 2\n",
      "  status: 0\n",
      " success: True\n",
      "       x: array([1., 0., 0., 0.])\n"
     ]
    }
   ],
   "source": [
    "print(optimal_results)"
   ]
  },
  {
   "cell_type": "code",
   "execution_count": 12,
   "metadata": {},
   "outputs": [
    {
     "data": {
      "text/plain": [
       "array([0.63635373, 0.26296995, 2.41987245])"
      ]
     },
     "execution_count": 12,
     "metadata": {},
     "output_type": "execute_result"
    }
   ],
   "source": [
    "get_ret_vol_sr(optimal_results.x)"
   ]
  },
  {
   "cell_type": "code",
   "execution_count": 13,
   "metadata": {},
   "outputs": [],
   "source": [
    "frontier_y = np.linspace(0.2,0.6,50)\n",
    "def minimize_vol(weights):\n",
    "    return get_ret_vol_sr(weights)[1]\n",
    "\n",
    "frontier_x = []\n",
    "\n",
    "for possible_return in frontier_y:\n",
    "    cons = ({'type':'eq', 'fun':check_sum},\n",
    "            {'type':'eq', 'fun': lambda w: get_ret_vol_sr(w)[0] - possible_return})\n",
    "    \n",
    "    result = opt.minimize(minimize_vol,ini_guess,method='SLSQP', bounds=bounds, constraints=cons)\n",
    "    frontier_x.append(result['fun'])"
   ]
  },
  {
   "cell_type": "code",
   "execution_count": 14,
   "metadata": {},
   "outputs": [
    {
     "data": {
      "image/png": "[encoded data removed]",
      "text/plain": [
       "<Figure size 864x576 with 2 Axes>"
      ]
     },
     "metadata": {
      "needs_background": "light"
     },
     "output_type": "display_data"
    }
   ],
   "source": [
    "plt.figure(figsize=(12,8))\n",
    "plt.scatter(vol_arr, ret_arr, c=sharpe_arr, cmap='viridis')\n",
    "plt.colorbar(label='Sharpe Ratio')\n",
    "plt.xlabel('Volatility')\n",
    "plt.ylabel('Return')\n",
    "plt.plot(frontier_x,frontier_y, 'r-o', linewidth=3)\n",
    "plt.savefig('cover.png')\n",
    "plt.show()"
   ]
  },
  {
   "cell_type": "code",
   "execution_count": null,
   "metadata": {},
   "outputs": [],
   "source": []
  }
 ],
 "metadata": {
  "kernelspec": {
   "display_name": "Python 3",
   "language": "python",
   "name": "python3"
  },
  "language_info": {
   "codemirror_mode": {
    "name": "ipython",
    "version": 3
   },
   "file_extension": ".py",
   "mimetype": "text/x-python",
   "name": "python",
   "nbconvert_exporter": "python",
   "pygments_lexer": "ipython3",
   "version": "3.7.3"
  }
 },
 "nbformat": 4,
 "nbformat_minor": 4
}
